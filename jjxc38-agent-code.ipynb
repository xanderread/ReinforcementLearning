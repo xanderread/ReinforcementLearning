{
  "cells": [
    {
      "cell_type": "markdown",
      "metadata": {
        "id": "j45ZlafdiB1X"
      },
      "source": [
        "# Dancing like the Inbetweeners: Learning to Walk with Symphony\n",
        "\n",
        "Code Notebook By Alex Read - jjxc38\n",
        "\n",
        "All references in report - main referenced codebases:\n",
        "\n",
        "\n",
        "[Symphony original implementation\n",
        "](https://github.com/timurgepard/Simphony)\n",
        "\n",
        "[TD3 Implementaton\n",
        "](https://github.com/lukau2357/bipedal-walker-td3)\n"
      ]
    },
    {
      "cell_type": "markdown",
      "metadata": {
        "id": "QTNU1mwGB1ZD"
      },
      "source": [
        "**Dependencies and setup**\n",
        "\n",
        "This can take a minute or so..."
      ]
    },
    {
      "cell_type": "code",
      "execution_count": null,
      "metadata": {
        "id": "rA38jtUgtZsG"
      },
      "outputs": [],
      "source": [
        "%%capture\n",
        "!pip install setuptools==65.5.0 \"wheel<0.40.0\"\n",
        "!apt update\n",
        "!apt-get install python3-opengl\n",
        "!apt install xvfb -y\n",
        "!pip install 'swig'\n",
        "!pip install 'pyglet==1.5.27'\n",
        "!pip install 'gym[box2d]==0.20.0'\n",
        "!pip install 'pyvirtualdisplay==3.0'\n",
        "\n",
        "import gym\n",
        "import random\n",
        "import numpy as np\n",
        "import torch\n",
        "import torch.nn as nn\n",
        "import torch.nn.functional as F\n",
        "import torch.optim as optim\n",
        "import matplotlib.pyplot as plt\n",
        "import sys\n",
        "from pyvirtualdisplay import Display\n",
        "from IPython import display as disp\n",
        "%matplotlib inline\n"
      ]
    },
    {
      "cell_type": "markdown",
      "metadata": {
        "id": "0jRlQRjFiJ3t"
      },
      "source": [
        "**Additional Setup**\n",
        "- we use weights & biases for logging\n",
        "- we use optuna for hyperparameter optimisation\n",
        "- set seeds/settings early on, to make sure everything is deterministic!\n",
        "- **select environment normal / hardcore**\n",
        "- start logging"
      ]
    },
    {
      "cell_type": "code",
      "execution_count": null,
      "metadata": {
        "colab": {
          "base_uri": "https://localhost:8080/",
          "height": 403
        },
        "id": "-4hcosNLnVtc",
        "outputId": "17275d75-4943-4223-9d33-1bf94ca24578"
      },
      "outputs": [
        {
          "name": "stdout",
          "output_type": "stream",
          "text": [
            "Requirement already satisfied: optuna in /usr/local/lib/python3.10/dist-packages (3.6.1)\n",
            "Requirement already satisfied: alembic>=1.5.0 in /usr/local/lib/python3.10/dist-packages (from optuna) (1.13.1)\n",
            "Requirement already satisfied: colorlog in /usr/local/lib/python3.10/dist-packages (from optuna) (6.8.2)\n",
            "Requirement already satisfied: numpy in /usr/local/lib/python3.10/dist-packages (from optuna) (1.25.2)\n",
            "Requirement already satisfied: packaging>=20.0 in /usr/local/lib/python3.10/dist-packages (from optuna) (24.0)\n",
            "Requirement already satisfied: sqlalchemy>=1.3.0 in /usr/local/lib/python3.10/dist-packages (from optuna) (2.0.29)\n",
            "Requirement already satisfied: tqdm in /usr/local/lib/python3.10/dist-packages (from optuna) (4.66.2)\n",
            "Requirement already satisfied: PyYAML in /usr/local/lib/python3.10/dist-packages (from optuna) (6.0.1)\n",
            "Requirement already satisfied: Mako in /usr/local/lib/python3.10/dist-packages (from alembic>=1.5.0->optuna) (1.3.3)\n",
            "Requirement already satisfied: typing-extensions>=4 in /usr/local/lib/python3.10/dist-packages (from alembic>=1.5.0->optuna) (4.11.0)\n",
            "Requirement already satisfied: greenlet!=0.4.17 in /usr/local/lib/python3.10/dist-packages (from sqlalchemy>=1.3.0->optuna) (3.0.3)\n",
            "Requirement already satisfied: MarkupSafe>=0.9.2 in /usr/local/lib/python3.10/dist-packages (from Mako->alembic>=1.5.0->optuna) (2.1.5)\n"
          ]
        },
        {
          "name": "stderr",
          "output_type": "stream",
          "text": [
            "\u001b[34m\u001b[1mwandb\u001b[0m: Currently logged in as: \u001b[33mflipperft\u001b[0m. Use \u001b[1m`wandb login --relogin`\u001b[0m to force relogin\n",
            "\u001b[34m\u001b[1mwandb\u001b[0m: \u001b[33mWARNING\u001b[0m If you're specifying your api key in code, ensure this code is not shared publicly.\n",
            "\u001b[34m\u001b[1mwandb\u001b[0m: \u001b[33mWARNING\u001b[0m Consider setting the WANDB_API_KEY environment variable, or running `wandb login` from the command line.\n",
            "\u001b[34m\u001b[1mwandb\u001b[0m: Appending key for api.wandb.ai to your netrc file: /root/.netrc\n"
          ]
        },
        {
          "data": {
            "text/html": [
              "Tracking run with wandb version 0.16.6"
            ],
            "text/plain": [
              "<IPython.core.display.HTML object>"
            ]
          },
          "metadata": {},
          "output_type": "display_data"
        },
        {
          "data": {
            "text/html": [
              "Run data is saved locally in <code>/content/wandb/run-20240505_201850-e7mwywkt</code>"
            ],
            "text/plain": [
              "<IPython.core.display.HTML object>"
            ]
          },
          "metadata": {},
          "output_type": "display_data"
        },
        {
          "data": {
            "text/html": [
              "Syncing run <strong><a href='https://wandb.ai/flipperft/BipedalWalker-v3/runs/e7mwywkt' target=\"_blank\">star-federation-434</a></strong> to <a href='https://wandb.ai/flipperft/BipedalWalker-v3' target=\"_blank\">Weights & Biases</a> (<a href='https://wandb.me/run' target=\"_blank\">docs</a>)<br/>"
            ],
            "text/plain": [
              "<IPython.core.display.HTML object>"
            ]
          },
          "metadata": {},
          "output_type": "display_data"
        },
        {
          "data": {
            "text/html": [
              " View project at <a href='https://wandb.ai/flipperft/BipedalWalker-v3' target=\"_blank\">https://wandb.ai/flipperft/BipedalWalker-v3</a>"
            ],
            "text/plain": [
              "<IPython.core.display.HTML object>"
            ]
          },
          "metadata": {},
          "output_type": "display_data"
        },
        {
          "data": {
            "text/html": [
              " View run at <a href='https://wandb.ai/flipperft/BipedalWalker-v3/runs/e7mwywkt' target=\"_blank\">https://wandb.ai/flipperft/BipedalWalker-v3/runs/e7mwywkt</a>"
            ],
            "text/plain": [
              "<IPython.core.display.HTML object>"
            ]
          },
          "metadata": {},
          "output_type": "display_data"
        },
        {
          "data": {
            "text/html": [
              "<button onClick=\"this.nextSibling.style.display='block';this.style.display='none';\">Display W&B run</button><iframe src='https://wandb.ai/flipperft/BipedalWalker-v3/runs/e7mwywkt?jupyter=true' style='border:none;width:100%;height:420px;display:none;'></iframe>"
            ],
            "text/plain": [
              "<wandb.sdk.wandb_run.Run at 0x789edbb3f4c0>"
            ]
          },
          "execution_count": 2,
          "metadata": {},
          "output_type": "execute_result"
        }
      ],
      "source": [
        "!pip install wandb -qU # import wandb for logging\n",
        "!pip install optuna\n",
        "\n",
        "import wandb\n",
        "import copy\n",
        "import math\n",
        "import time\n",
        "\n",
        "#setup wandb\n",
        "api_key = 'rickrolled'\n",
        "wandb.login(key=api_key)\n",
        "\n",
        "\n",
        "display = Display(visible=0,size=(600,600))\n",
        "display.start()\n",
        "device = torch.device('cuda') if torch.cuda.is_available() else torch.device('cpu')\n",
        "\n",
        "\n",
        "plot_interval = 10 # update the plot every N episodes\n",
        "video_every = 100 # videos can take a very long time to render so only do it every N episodes\n",
        "\n",
        "\n",
        "\n",
        "# Set seeds nice and early - for consistent results\n",
        "seed = 42\n",
        "torch.manual_seed(seed)\n",
        "random.seed(seed)\n",
        "np.random.seed(seed)\n",
        "torch.use_deterministic_algorithms(True)\n",
        "torch.cuda.manual_seed_all(seed)\n",
        "\n",
        "\n",
        "# Setup logging / Choose enviroment\n",
        "%load_ext wandb\n",
        "ENV_NAME = \"BipedalWalker-v3\" #change to \"BipedalWalkerHardcore-v3\" for the hardcore enviroment\n",
        "wandb.init(project=ENV_NAME,save_code=True)"
      ]
    },
    {
      "cell_type": "markdown",
      "metadata": {
        "id": "USFVtP6LkOcR"
      },
      "source": [
        "**Reinforcement learning agent**\n",
        "\n",
        "We reimplement the actor-critic agent nicknamed '[Symphony](https://github.com/timurgepard/Simphony/tree/main/2_1)' from the book ['How to make Robot move like a Human with Reinforcement Learning'](https://https://www.amazon.co.uk/gp/product/B0CKYWHPF5/ref=ppx_yo_dt_b_d_asin_title_351_o06?ie=UTF8&psc=1).\n",
        "\n"
      ]
    },
    {
      "cell_type": "markdown",
      "metadata": {
        "id": "Xd-pKs3En1xP"
      },
      "source": [
        "Loss Functions\n",
        "\n",
        "The Rectified Huber Error (ReHE)\n",
        "and Rectified Huber Asymmetrical Error (ReHAE)\n",
        "$$\n",
        "\\text{ReHAE}(x) = \\text{abs}(x) \\cdot \\tanh(x)\n",
        "$$\n",
        "\n",
        "\n",
        "\n",
        "Huber loss distinguishes between small and large errors and combines properties of mean squared error for small errors and mean absolute error for large errors. This Rectified Huber Loss with tanh does a similar thing only with the tanh function. In our experiments, we tried a variety of loss functions.\n",
        "\n",
        "\n"
      ]
    },
    {
      "cell_type": "code",
      "execution_count": null,
      "metadata": {
        "id": "84HfW1mOvxpU"
      },
      "outputs": [],
      "source": [
        "# modified huber loss functions\n",
        "def ReHE(error):\n",
        "    ae = torch.abs(error).mean()\n",
        "    return ae*torch.tanh(ae)\n",
        "\n",
        "def ReHaE(error):\n",
        "    e = error.mean()\n",
        "    return torch.abs(e)*torch.tanh(e)\n",
        "\n",
        "# standard huber loss functions\n",
        "def hE(error, delta):\n",
        "    abs_error = torch.abs(error)\n",
        "    quadratic_part = torch.clamp(abs_error - delta, min=0.0)\n",
        "    linear_part = delta * (abs_error - 0.5 * delta)\n",
        "    return torch.mean(0.5 * quadratic_part**2 + linear_part)\n",
        "\n",
        "def hAE(error, delta):\n",
        "    abs_error = torch.abs(error)\n",
        "    return torch.mean(torch.where(abs_error <= delta, 0.5 * error**2, delta * (abs_error - 0.5 * delta)))"
      ]
    },
    {
      "cell_type": "markdown",
      "metadata": {
        "id": "Q3JNwgF2aimQ"
      },
      "source": [
        "Network\n",
        "\n",
        "The main network architecture uses sine functions, just like a Fourier series! The idea is that neural networks structured as a Fourier series [have been effective in modelling periodic patterns and tasks with cyclical behaviour](https://onlinelibrary.wiley.com/doi/full/10.1002/sam.11531). This network works with the normal bipedal walker great; however, the Fourier series architecture struggles in the hardcore environment which has non-periodic and irregular patterns.\n",
        "\n",
        "\n",
        "\n",
        "\n",
        "\n",
        "\n",
        "\n"
      ]
    },
    {
      "cell_type": "code",
      "execution_count": null,
      "metadata": {
        "id": "P5xbKAE5bZ3_"
      },
      "outputs": [],
      "source": [
        "class ReSine(nn.Module):\n",
        "    def forward(self, x):\n",
        "        return F.leaky_relu(torch.sin(x), 0.1)\n",
        "\n",
        "\n",
        "class Network(nn.Module):\n",
        "    def __init__(self, hidden_dim, f_out):\n",
        "        super().__init__()\n",
        "\n",
        "        self.fft = nn.Sequential(\n",
        "            nn.Linear(hidden_dim, hidden_dim),\n",
        "            ReSine(),\n",
        "            nn.Linear(hidden_dim, f_out)\n",
        "        )\n",
        "\n",
        "    def forward(self, x):\n",
        "        return self.fft(x)"
      ]
    },
    {
      "cell_type": "markdown",
      "metadata": {
        "id": "QecDZAY1nKbs"
      },
      "source": [
        "Actor"
      ]
    },
    {
      "cell_type": "code",
      "execution_count": null,
      "metadata": {
        "id": "1ymqj7MOmaTE"
      },
      "outputs": [],
      "source": [
        "\n",
        "class Actor(nn.Module):\n",
        "    def __init__(self, obs_dim, act_dim, device, hidden_dim=256, max_action=1.0,exploration_scale_factor=0.2,noise_limit_multiplier = 2.5):\n",
        "        super(Actor, self).__init__()\n",
        "        self.device = device\n",
        "\n",
        "        # transform input observations to match the size of the neural network's input layer\n",
        "        self.input = nn.Linear(obs_dim, hidden_dim)\n",
        "\n",
        "        self.net = nn.Sequential(\n",
        "            Network(hidden_dim, act_dim),\n",
        "            nn.Tanh() # squashes the output to the range (-1,1)\n",
        "        )\n",
        "\n",
        "        # calculate hyperparameters for noise / exploration\n",
        "        self.exploration_scale_factor = exploration_scale_factor\n",
        "        self.max_action = torch.mean(max_action).item()\n",
        "        self.noise_scale = self.exploration_scale_factor*self.max_action # calculate scale for adding noise / exploration\n",
        "        self.noise_limit = noise_limit_multiplier*self.noise_scale # limit for magnitude of noise\n",
        "\n",
        "\n",
        "    def forward(self, state):\n",
        "        x = self.input(state)\n",
        "        x = self.max_action*self.net(x)\n",
        "        return x\n",
        "\n",
        "    def action(self, state):\n",
        "        self.input.eval()\n",
        "        with torch.no_grad():\n",
        "            x = self.forward(state)\n",
        "            x += (self.exploration_scale_factor*torch.randn_like(x)).clamp(-self.noise_limit, self.noise_limit)\n",
        "        self.input.train()\n",
        "        return x.clamp(-self.max_action, self.max_action)\n"
      ]
    },
    {
      "cell_type": "markdown",
      "metadata": {
        "id": "pbdm3WVFoori"
      },
      "source": [
        "Critic"
      ]
    },
    {
      "cell_type": "code",
      "execution_count": null,
      "metadata": {
        "id": "0_EFo-JJ4xrx"
      },
      "outputs": [],
      "source": [
        "class Critic(nn.Module):\n",
        "    def __init__(self, obs_dim, act_dim, hidden_dim=256):\n",
        "        super(Critic, self).__init__()\n",
        "        self.input = nn.Linear(obs_dim+act_dim, hidden_dim)\n",
        "        # Q-value function approximations\n",
        "        qA = Network(hidden_dim, 1)\n",
        "        qB = Network(hidden_dim, 1)\n",
        "        qC = Network(hidden_dim, 1)\n",
        "\n",
        "        self.nets = nn.ModuleList([qA, qB, qC])\n",
        "\n",
        "\n",
        "    def forward(self, state, action, united=False):\n",
        "        x = torch.cat([state, action], -1)\n",
        "        x = self.input(x)\n",
        "        xs = [net(x) for net in self.nets]\n",
        "\n",
        "        # united returns a unified Q-value by taking the minimum across the networks\n",
        "        if not united: return xs\n",
        "\n",
        "        # otherwise return a list containing the Q-values calculated by each network\n",
        "        return torch.min(torch.cat(xs, dim=-1), dim=-1, keepdim=True).values\n"
      ]
    },
    {
      "cell_type": "markdown",
      "metadata": {
        "id": "1T7ot8frqKyy"
      },
      "source": [
        "Agent"
      ]
    },
    {
      "cell_type": "code",
      "execution_count": null,
      "metadata": {
        "id": "CT3d_B994mV_"
      },
      "outputs": [],
      "source": [
        "# Define the actor-critic agent\n",
        "class Agent(object):\n",
        "    def __init__(self, obs_dim, act_dim, hidden_dim, device, max_action=1.0, fade_factor=7.0, alpha=0.07,exploration_scale_factor=0.2):\n",
        "\n",
        "        # agent has a replay buffer\n",
        "        self.replay_buffer = ReplayBuffer(obs_dim, act_dim, device, fade_factor, alpha)\n",
        "\n",
        "        # setup actor\n",
        "        self.actor = Actor(obs_dim, act_dim, device, hidden_dim, max_action=max_action,exploration_scale_factor=exploration_scale_factor).to(device)\n",
        "\n",
        "        # use three critics, two online and one offline critic\n",
        "        self.critic = Critic(obs_dim, act_dim, hidden_dim).to(device)\n",
        "        self.critic2 = copy.deepcopy(self.critic)\n",
        "\n",
        "        self.critic_target = copy.deepcopy(self.critic)\n",
        "\n",
        "        self.actor_optimizer = optim.Adam(self.actor.parameters(), lr=3e-4)\n",
        "        self.critic_optimizer = optim.Adam(self.critic.parameters(), lr=3e-4)\n",
        "        self.critic2_optimizer = optim.Adam(self.critic2.parameters(), lr=3e-4)\n",
        "\n",
        "        self.max_action = max_action\n",
        "        self.device = device\n",
        "        self.obs_dim = obs_dim\n",
        "        self.act_dim = act_dim\n",
        "        self.q_old_policy = 0.0\n",
        "\n",
        "\n",
        "\n",
        "    def sample_action(self, states):\n",
        "        with torch.no_grad():\n",
        "            states = np.array(states)\n",
        "            state = torch.FloatTensor(states).reshape(-1,self.obs_dim).to(self.device)\n",
        "            action = self.actor.action(state)\n",
        "        return action.cpu().data.numpy().flatten()\n",
        "\n",
        "\n",
        "    def train(self, tr_per_step=1):\n",
        "        #Update-To-Data (UTD)\n",
        "        for _ in range(tr_per_step):\n",
        "            state, action, reward, next_state, done = self.replay_buffer.sample()\n",
        "            #Sample Multiple Reuse (SMR) #TODO: need to look into this and really just cleanup this function in general\n",
        "            for _ in range(3):\n",
        "                self.critic_update(state, action, reward, next_state, done)\n",
        "            self.actor_update(state)\n",
        "    # update critic\n",
        "    def critic_update(self, state, action, reward, next_state, done):\n",
        "        with torch.no_grad():\n",
        "            for target_param, param in zip(self.critic_target.parameters(), self.critic.parameters()):\n",
        "                target_param.data.copy_(0.997*target_param.data + 0.003*param)\n",
        "\n",
        "            next_action = self.actor(next_state)\n",
        "            q_next_target = self.critic_target(next_state, next_action, united=True)\n",
        "            q_value = reward +  (1-done) * 0.99 * q_next_target\n",
        "        qs = self.critic(state, action, united=False)\n",
        "        other_qs = self.critic2(state, action, united=False)\n",
        "        other_critic_loss = ReHE(q_value - qs[0]) + ReHE(q_value - qs[1]) + ReHE(q_value - qs[2])\n",
        "        critic_loss = ReHE(q_value - qs[0]) + ReHE(q_value - qs[1]) + ReHE(q_value - qs[2])\n",
        "        critic_loss = min(other_critic_loss, critic_loss)\n",
        "        self.critic_optimizer.zero_grad()\n",
        "        critic_loss.backward()\n",
        "        self.critic_optimizer.step()\n",
        "    def actor_update(self, state):\n",
        "        action = self.actor(state)\n",
        "        q_new_policy = self.critic(state, action, united=True)\n",
        "        actor_loss = -ReHaE(q_new_policy - self.q_old_policy)\n",
        "\n",
        "        self.actor_optimizer.zero_grad()\n",
        "        actor_loss.backward(retain_graph=True)\n",
        "        self.actor_optimizer.step()\n",
        "\n",
        "        with torch.no_grad(): self.q_old_policy = q_new_policy.mean().detach()\n"
      ]
    },
    {
      "cell_type": "markdown",
      "metadata": {
        "id": "DirDytBoqPZJ"
      },
      "source": [
        "Replay Buffer\n",
        "- We use a faded replay - older experiences are valued less"
      ]
    },
    {
      "cell_type": "code",
      "execution_count": null,
      "metadata": {
        "id": "9W3WmlFM48Gr"
      },
      "outputs": [],
      "source": [
        "class ReplayBuffer:\n",
        "    def __init__(self, obs_dim, act_dim, device, fade_factor=7.0, alpha=0.07,capacity=512000,delta_max=3.0,delta_max_update_threshold=1000):\n",
        "        self.length = 0 # current length of buffer\n",
        "        self.device = device\n",
        "        self.capacity = capacity # represents the maximum number of experiences (state, action, reward, next state, done) that the buffer can store\n",
        "        self.batch_size = min(max(128, self.length//500), 1024) #   determines how many experiences are sampled from the buffer for each training iteration. It's dynamically set based on the length of the buffer\n",
        "        self.fade_factor = fade_factor # controls how much older experiences are weighted during sampling\n",
        "        self.alpha_base = alpha # scales the importance of recent rewards in adjusting the alpha value, which is used in reward correction.\n",
        "        self.delta_max = delta_max #represents the largest observed difference between consecutive states\n",
        "        self.delta_max_update_threshold = delta_max_update_threshold # represents a threshold (timesteps) for updating delta_max\n",
        "        self.alpha = alpha # dynamically adjusted based on the average difference between consecutive states. This adjustment regulates how much the reward correction term affects the overall reward.\n",
        "\n",
        "        # init vars\n",
        "        self.indices, self.indexes, self.probs, self.step = [], np.array([]), np.array([]), 0\n",
        "        self.states = torch.zeros((self.capacity, obs_dim), dtype=torch.float32).to(device)\n",
        "        self.actions = torch.zeros((self.capacity, act_dim), dtype=torch.float32).to(device)\n",
        "        self.rewards = torch.zeros((self.capacity, 1), dtype=torch.float32).to(device)\n",
        "        self.next_states = torch.zeros((self.capacity, obs_dim), dtype=torch.float32).to(device)\n",
        "        self.dones = torch.zeros((self.capacity, 1), dtype=torch.float32).to(device)\n",
        "        self.rewards_sum = 0\n",
        "\n",
        "\n",
        "    # add a memory to the buffer\n",
        "    def add(self, state, action, reward, next_state, done):\n",
        "\n",
        "      # if the buffer is not at max size increased its size\n",
        "        if self.length<self.capacity:\n",
        "            self.length += 1\n",
        "            self.indices.append(self.length-1)\n",
        "            self.indexes = np.array(self.indices)\n",
        "\n",
        "        idx = self.length-1\n",
        "\n",
        "        # update running sum of rewards and total step count\n",
        "        self.rewards_sum += (reward/2)*math.tanh(reward/2)\n",
        "        self.step += 1\n",
        "\n",
        "\n",
        "        # update alpha value based on rewards and steps\n",
        "        self.alpha = self.alpha_base*(10.0 + self.rewards_sum/self.step)/10.0\n",
        "\n",
        "        # compute delta (mean absolute difference between states)\n",
        "        delta = np.mean(np.abs(next_state - state)).item()\n",
        "\n",
        "\n",
        "        # update delta_max if step count is less than or equal to delta_max_update_threshold\n",
        "        if self.step<=self.delta_max_update_threshold:\n",
        "            if delta>self.delta_max: self.delta_max = delta\n",
        "\n",
        "        # normalise and adjust reward using alpha and delta\n",
        "        delta /= self.delta_max\n",
        "        reward += self.alpha*(0.5*math.tanh(math.log(2.0*delta))+0.5)\n",
        "\n",
        "        # store the experience in the buffer\n",
        "        self.states[idx,:] = torch.FloatTensor(state).to(self.device)\n",
        "        self.actions[idx,:] = torch.FloatTensor(action).to(self.device)\n",
        "        self.rewards[idx,:] = torch.FloatTensor([reward]).to(self.device)\n",
        "        self.next_states[idx,:] = torch.FloatTensor(next_state).to(self.device)\n",
        "        self.dones[idx,:] = torch.FloatTensor([done]).to(self.device)\n",
        "\n",
        "        # update batch size based on current buffer length\n",
        "        self.batch_size = min(max(128, self.length//250), 2048)\n",
        "\n",
        "        # if buffer is full, roll the buffer to remove the oldest experience\n",
        "        if self.length==self.capacity:\n",
        "            self.states = torch.roll(self.states, shifts=-1, dims=0)\n",
        "            self.actions = torch.roll(self.actions, shifts=-1, dims=0)\n",
        "            self.rewards = torch.roll(self.rewards, shifts=-1, dims=0)\n",
        "            self.next_states = torch.roll(self.next_states, shifts=-1, dims=0)\n",
        "            self.dones = torch.roll(self.dones, shifts=-1, dims=0)\n",
        "\n",
        "\n",
        "    # produces probabilities of sampling something from the replay buffer - if something is recent it should have a higher probability of being chosen\n",
        "    def generate_probs(self):\n",
        "        if self.step>self.capacity: return self.probs\n",
        "        def fade(norm_index): return np.tanh(self.fade_factor*norm_index**2) # linear / -> non-linear _/‾\n",
        "        weights = 1e-7*(fade(self.indexes/self.length))# weights are based solely on the history, highly squashed\n",
        "        self.probs = weights/np.sum(weights)\n",
        "        return self.probs\n",
        "\n",
        "    # sample from replay buffer\n",
        "    def sample(self):\n",
        "        indices = np.random.choice(self.indexes, p=self.generate_probs(), size=self.batch_size)\n",
        "        return (\n",
        "            self.states[indices],\n",
        "            self.actions[indices],\n",
        "            self.rewards[indices],\n",
        "            self.next_states[indices],\n",
        "            self.dones[indices]\n",
        "        )\n",
        "\n",
        "\n",
        "    def __len__(self):\n",
        "        return self.length"
      ]
    },
    {
      "cell_type": "markdown",
      "metadata": {
        "id": "QEv4ZjXmyrHo"
      },
      "source": [
        "**Prepare the environment and wrap it to capture videos**"
      ]
    },
    {
      "cell_type": "code",
      "execution_count": null,
      "metadata": {
        "id": "1Xrcek4hxDXl"
      },
      "outputs": [],
      "source": [
        "\n",
        "%%capture\n",
        "env = gym.make(ENV_NAME) # env_name is defined at the top of the notebook\n",
        "# env = gym.make(\"BipedalWalkerHardcore-v3\") # only attempt this when your agent has solved BipedalWalker-v3\n",
        "env = gym.wrappers.Monitor(env, \"./video\", video_callable=lambda ep_id: ep_id%video_every == 0, force=True)\n",
        "\n",
        "obs_dim = env.observation_space.shape[0]\n",
        "act_dim = env.action_space.shape[0]\n",
        "\n",
        "\n",
        "env.seed(seed)\n",
        "env.action_space.seed(seed)\n"
      ]
    },
    {
      "cell_type": "code",
      "execution_count": null,
      "metadata": {
        "colab": {
          "base_uri": "https://localhost:8080/"
        },
        "id": "DvwPy1MWsHeC",
        "outputId": "0f1abf48-ebf9-42e8-8aaf-34b3ab534140"
      },
      "outputs": [
        {
          "name": "stdout",
          "output_type": "stream",
          "text": [
            "The environment has 24 observations and the agent can take 4 actions\n",
            "The device is: cpu\n"
          ]
        }
      ],
      "source": [
        "print('The environment has {} observations and the agent can take {} actions'.format(obs_dim, act_dim))\n",
        "print('The device is: {}'.format(device))\n",
        "\n",
        "if device.type != 'cpu': print('It\\'s recommended to train on the cpu for this')"
      ]
    },
    {
      "cell_type": "code",
      "execution_count": null,
      "metadata": {
        "id": "lQqOGQissJJA"
      },
      "outputs": [],
      "source": [
        "# used to log data to weights and biases\n",
        "def log_to_wandb(episode, total_reward_avg, total_reward_std, episode_reward):\n",
        "  wandb.log({\n",
        "        'episode': episode,\n",
        "        'total_reward_avg': total_reward_avg,\n",
        "        'episode_reward': episode_reward\n",
        "    })"
      ]
    },
    {
      "cell_type": "code",
      "execution_count": null,
      "metadata": {
        "colab": {
          "base_uri": "https://localhost:8080/"
        },
        "id": "BbFFUXMbsKv5",
        "outputId": "3cc1d95b-f468-46bc-e109-870e6cba0873"
      },
      "outputs": [
        {
          "name": "stdout",
          "output_type": "stream",
          "text": [
            "Hyperparamaters being used:  {'explore_time': 500, 'tr_per_step': 5, 'hidden_dim': 258, 'fade_factor': 7, 'alpha': 0.02000001342, 'exploration_scale_factor': 0.2, 'tr_pre_step': 64}\n"
          ]
        }
      ],
      "source": [
        "explore_time = 500 # time where we don't train, just fill replay buffer\n",
        "tr_per_step = 5 # actor's updates per frame/step\n",
        "tr_pre_step = 64 # actor's updates before a frame/step\n",
        "hidden_dim = 258 # dimensions of network to use\n",
        "fade_factor = 7 # fading memory factor\n",
        "alpha = 0.02000001342 # basicially a stall penalty\n",
        "exploration_scale_factor=0.2 # exploration scale factor\n",
        "\n",
        "hyperparams = {\n",
        "    'explore_time': explore_time,\n",
        "    'tr_per_step': tr_per_step,\n",
        "    'hidden_dim': hidden_dim,\n",
        "    'fade_factor': fade_factor,\n",
        "    'alpha':alpha,\n",
        "    'exploration_scale_factor':exploration_scale_factor,\n",
        "    'tr_pre_step':tr_pre_step\n",
        "}\n",
        "\n",
        "print(\"Hyperparamaters being used: \", hyperparams)\n",
        "wandb.config.update(hyperparams)"
      ]
    },
    {
      "cell_type": "code",
      "execution_count": null,
      "metadata": {
        "colab": {
          "background_save": true,
          "base_uri": "https://localhost:8080/",
          "height": 449
        },
        "id": "G25KgJO1vsb-",
        "outputId": "edc89bc5-5d48-43af-cece-b0d45989dd81"
      },
      "outputs": [
        {
          "data": {
            "image/png": "[encoded data removed]",
            "text/plain": [
              "<Figure size 640x480 with 1 Axes>"
            ]
          },
          "metadata": {},
          "output_type": "display_data"
        }
      ],
      "source": [
        "# needed variables\n",
        "Q_learning = False\n",
        "max_action = 1.0\n",
        "max_action = max_action*torch.FloatTensor(env.action_space.high).to(device) if env.action_space.is_bounded() else max_action*1.0\n",
        "total_steps = 0\n",
        "\n",
        "\n",
        "# is used to init weights of the actor - this is still seeded / deterministic!\n",
        "def init_weights(m):\n",
        "    if isinstance(m, nn.Linear): torch.nn.init.xavier_uniform_(m.weight)\n",
        "\n",
        "# chris's logging variables\n",
        "ep_reward = 0\n",
        "reward_list = []\n",
        "plot_data = []\n",
        "log_f = open(\"agent-log.txt\",\"w+\")\n",
        "\n",
        "# initialise agent\n",
        "agent = Agent(obs_dim, act_dim, hidden_dim, device, max_action, fade_factor, alpha,exploration_scale_factor)\n",
        "max_episodes = 1000\n",
        "max_timesteps = 2000\n",
        "\n",
        "\n",
        "# training procedure:\n",
        "for episode in range(1, max_episodes+1):\n",
        "    state = env.reset()\n",
        "\n",
        "\n",
        "    # If the agent is exploring, sample some random weights for it - these are seeded!\n",
        "    if not Q_learning and total_steps < explore_time:\n",
        "      agent.actor.apply(init_weights)\n",
        "\n",
        "\n",
        "    # for some reason got errors without, seems to relieve cpu / gpu\n",
        "    if Q_learning: time.sleep(0.5)\n",
        "\n",
        "\n",
        "    for t in range(max_timesteps):\n",
        "        total_steps += 1\n",
        "\n",
        "\n",
        "        if t>=explore_time and not Q_learning:\n",
        "            print(\"end of exploration\")\n",
        "            Q_learning = True\n",
        "\n",
        "            agent.train(tr_pre_step)\n",
        "\n",
        "        action = agent.sample_action(state)\n",
        "\n",
        "\n",
        "        # take action in environment and get r and s'\n",
        "        next_state, reward, done, info = env.step(action)\n",
        "\n",
        "\n",
        "        # add to replay buffer\n",
        "        agent.replay_buffer.add(state, action, reward, next_state, done)\n",
        "\n",
        "\n",
        "        if Q_learning:\n",
        "          agent.train(tr_per_step)\n",
        "\n",
        "        state = next_state\n",
        "        ep_reward += reward\n",
        "\n",
        "        #\n",
        "        if done or (not Q_learning and t>=2000): break\n",
        "\n",
        "        # stop iterating when the episode finished\n",
        "        if done or t==(max_timesteps-1):\n",
        "            break\n",
        "\n",
        "    # append the episode reward to the reward list\n",
        "    reward_list.append(ep_reward)\n",
        "\n",
        "\n",
        "\n",
        "\n",
        "    # do NOT change this logging code - it is used for automated marking!\n",
        "    log_f.write('episode: {}, reward: {}\\n'.format(episode, ep_reward))\n",
        "    log_f.flush()\n",
        "\n",
        "    # log data to wandb\n",
        "    log_to_wandb(episode,np.array(reward_list).mean(),np.array(reward_list).std(),ep_reward)\n",
        "\n",
        "    ep_reward = 0\n",
        "\n",
        "    # print reward data every so often - add a graph like this in your report\n",
        "    if episode % plot_interval == 0:\n",
        "        plot_data.append([episode, np.array(reward_list).mean(), np.array(reward_list).std()])\n",
        "        reward_list = []\n",
        "        # plt.rcParams['figure.dpi'] = 100\n",
        "        plt.plot([x[0] for x in plot_data], [x[1] for x in plot_data], '-', color='tab:grey')\n",
        "        plt.fill_between([x[0] for x in plot_data], [x[1]-x[2] for x in plot_data], [x[1]+x[2] for x in plot_data], alpha=0.2, color='tab:grey')\n",
        "        plt.xlabel('Episode number')\n",
        "        plt.ylabel('Episode reward')\n",
        "        plt.show()\n",
        "        disp.clear_output(wait=True)\n",
        "\n",
        "\n",
        "\n",
        "\n"
      ]
    },
    {
      "cell_type": "code",
      "execution_count": null,
      "metadata": {
        "id": "Sz_AyXX3OrS5"
      },
      "outputs": [],
      "source": [
        "env.close()"
      ]
    },
    {
      "cell_type": "markdown",
      "metadata": {
        "id": "tGb5yZY-UFRT"
      },
      "source": [
        "Hyperparameter Search Code\n",
        "- optuna uses Bayesian optimisation\n",
        "\n",
        "(this was not ran in a notebook)"
      ]
    },
    {
      "cell_type": "code",
      "execution_count": null,
      "metadata": {
        "id": "MN6ZIccUUShg"
      },
      "outputs": [],
      "source": [
        "import optuna\n",
        "\n",
        "\n",
        "def objective(trial):\n",
        "  explore_time = 500 # time where we don't train, fill replay buffer\n",
        "  tr_per_step = 5 # actor's updates per frame/step\n",
        "  tr_pre_step = 64 # actor's updates before a frame/step\n",
        "  hidden_dim = 384 # dimensions of network to use\n",
        "  fade_factor = 7 # fading memory factor\n",
        "  alpha = 0.02 # basicially a stall penalty\n",
        "  exploration_scale_factor=0.2 # exploration scale factor\n",
        "\n",
        "  hyperparams = {\n",
        "      'explore_time': explore_time,\n",
        "      'tr_per_step': tr_per_step,\n",
        "      'hidden_dim': hidden_dim,\n",
        "      'fade_factor': fade_factor,\n",
        "      'alpha':alpha,\n",
        "      'exploration_scale_factor':exploration_scale_factor,\n",
        "      'tr_pre_step':tr_pre_step\n",
        "  }\n",
        "\n",
        "  explore_time = trial.suggest_int('explore_time', 300, 1000)\n",
        "  tr_per_step = trial.suggest_int('tr_per_step', 1, 8)\n",
        "  tr_pre_step = trial.suggest_int('tr_pre_step', 32, 128)\n",
        "  hidden_dim = trial.suggest_int('hidden_dim', 256,512)\n",
        "  fade_factor = trial.suggest_categorical('fade_factor', [1, 10,7,100])\n",
        "  alpha = trial.suggest_float('alpha', 0.01, 0.1)\n",
        "  exploration_scale_factor = trial.suggest_float('exploration_scale_factor', 0.05, 0.5)\n",
        "\n",
        "\n",
        "\n",
        "  # needed variables\n",
        "  Q_learning = False\n",
        "  max_action = 1.0\n",
        "  max_action = max_action*torch.FloatTensor(env.action_space.high).to(device) if env.action_space.is_bounded() else max_action*1.0\n",
        "  total_steps = 0\n",
        "\n",
        "\n",
        "  # is used to init weights of the actor - this is still seeded / deterministic!\n",
        "  def init_weights(m):\n",
        "      if isinstance(m, nn.Linear): torch.nn.init.xavier_uniform_(m.weight)\n",
        "\n",
        "  # search variable\n",
        "  total_reward = 0\n",
        "\n",
        "\n",
        "\n",
        "  # initialise agent\n",
        "  agent = Agent(obs_dim, act_dim, hidden_dim, device, max_action, fade_factor, alpha,exploration_scale_factor)\n",
        "  max_episodes = 150\n",
        "  max_timesteps = 2000\n",
        "\n",
        "\n",
        "  # training procedure:\n",
        "  for episode in range(1, max_episodes+1):\n",
        "\n",
        "\n",
        "\n",
        "      state = env.reset()\n",
        "\n",
        "\n",
        "      # If the agent is exploring, sample some random weights for it - these are seeded!\n",
        "      if not Q_learning and total_steps < explore_time:\n",
        "        agent.actor.apply(init_weights)\n",
        "\n",
        "\n",
        "\n",
        "      if Q_learning: time.sleep(0.5)\n",
        "\n",
        "\n",
        "      for t in range(max_timesteps):\n",
        "          total_steps += 1\n",
        "\n",
        "\n",
        "          if t>=explore_time and not Q_learning:\n",
        "              Q_learning = True\n",
        "              agent.train(tr_pre_step)\n",
        "\n",
        "          action = agent.sample_action(state)\n",
        "\n",
        "\n",
        "\n",
        "          next_state, reward, done, info = env.step(action)\n",
        "\n",
        "\n",
        "\n",
        "          agent.replay_buffer.add(state, action, reward, next_state, done)\n",
        "\n",
        "\n",
        "          if Q_learning:\n",
        "            agent.train(tr_per_step)\n",
        "\n",
        "          state = next_state\n",
        "          total_reward += reward\n",
        "\n",
        "\n",
        "          if done or (not Q_learning and t>=2000): break\n",
        "\n",
        "          # stop iterating when the episode finished\n",
        "          if done or t==(max_timesteps-1):\n",
        "              break\n",
        "\n",
        "\n",
        "  return total_reward\n",
        "\n",
        "\n",
        "def log_trial_info(study, trial):\n",
        "    # Open the log file in append mode, creates it if it doesn't exist\n",
        "    with open(\"trial_log.txt\", \"a\") as log_file:\n",
        "        log_file.write(f\"Trial {trial.number} finished with total reward: {trial.value}, \"\n",
        "                       f\"parameters: {trial.params}\")\n",
        "\n",
        "# Create a study object\n",
        "study = optuna.create_study(direction='maximize')  # Assuming you want to maximize total_reward\n",
        "study.optimize(objective, n_trials=100, callbacks=[log_trial_info])\n",
        "\n",
        "\n",
        "# After all trials, get the best trial information\n",
        "best_trial = study.best_trial\n",
        "print(f\"Best trial total reward: {best_trial.value}\")\n",
        "print(f\"Best trial parameters: {best_trial.params}\")\n",
        "\n"
      ]
    },
    {
      "cell_type": "markdown",
      "metadata": {
        "id": "-5lvKdpeU7WV"
      },
      "source": [
        "**Reinforcement learning agent (TD3)**\n",
        "\n",
        "In our paper we compare our modified implementation of simphony with TD3 - below is the code we used to train a TD3 agent.\n",
        "\n",
        "We used a lot of code from [here](https://github.com/lukau2357/bipedal-walker-td3), this is just a vanilla implementation of TD3"
      ]
    },
    {
      "cell_type": "markdown",
      "metadata": {
        "id": "iHb5ZmTPU8TQ"
      },
      "source": [
        "Network\n",
        "(same for actor and critic - just uses different dimensions)"
      ]
    },
    {
      "cell_type": "code",
      "execution_count": null,
      "metadata": {
        "id": "TZQyvqKfU9yU"
      },
      "outputs": [],
      "source": [
        "class Network(nn.Module):\n",
        "    def __init__(\n",
        "        self, shape, output_activation, learning_rate,device):\n",
        "        super().__init__()\n",
        "        # initialize the network\n",
        "        layers = []\n",
        "        for i in range(1, len(shape)):\n",
        "            dim1 = shape[i - 1]\n",
        "            dim2 = shape[i]\n",
        "            layers.append(nn.Linear(dim1, dim2))\n",
        "            if i < len(shape) - 1:\n",
        "                layers.append(nn.ReLU())\n",
        "        layers.append(output_activation())\n",
        "        self.network = nn.Sequential(*layers)\n",
        "\n",
        "        self.optimizer = optim.Adam(self.parameters(), lr=learning_rate)\n",
        "        self.device = device\n",
        "        self.to(self.device)\n",
        "\n",
        "    def forward(self, state):\n",
        "        return self.network(state)\n",
        "\n",
        "    def gradient_descent_step(self, loss, retain_graph=False):\n",
        "        self.optimizer.zero_grad()\n",
        "        loss.backward(retain_graph=retain_graph)\n",
        "        self.optimizer.step()"
      ]
    },
    {
      "cell_type": "markdown",
      "metadata": {
        "id": "t5_8-Va3V0AU"
      },
      "source": [
        "Replay Buffer"
      ]
    },
    {
      "cell_type": "code",
      "execution_count": null,
      "metadata": {
        "id": "QsLIFhOgV1mZ"
      },
      "outputs": [],
      "source": [
        "class ReplayBuffer():\n",
        "    def __init__(self, obs_dim, act_dim, size=1_000_000):\n",
        "        # use a fixed-size buffer to prevent constant list instantiations\n",
        "        self.states = np.zeros((size, obs_dim))\n",
        "        self.actions = np.zeros((size, act_dim))\n",
        "        self.rewards = np.zeros(size)\n",
        "        self.next_states = np.zeros((size, obs_dim))\n",
        "        self.done_flags = np.zeros(size)\n",
        "        # use a pointer to keep track of where in the buffer we are\n",
        "        self.pointer = 0\n",
        "        # use current size to ensure we don't train on any non-existent data points\n",
        "        self.current_size = 0\n",
        "        self.size = size\n",
        "\n",
        "    def store(\n",
        "        self, state, action, reward, next_state,done_flag):\n",
        "        # store all the data for this transition\n",
        "        ptr = self.pointer\n",
        "        self.states[ptr] = state\n",
        "        self.actions[ptr] = action\n",
        "        self.rewards[ptr] = reward\n",
        "        self.next_states[ptr] = next_state\n",
        "        self.done_flags[ptr] = done_flag\n",
        "        # update the pointer and done_flag size\n",
        "        self.pointer = (self.pointer + 1) % self.size\n",
        "        self.current_size = min(self.current_size + 1, self.size)\n",
        "\n",
        "    def get_mini_batch(self, size):\n",
        "        # ensure size is not bigger than the current size of the buffer\n",
        "        size = min(size, self.current_size)\n",
        "        # generate random indices\n",
        "        indices = np.random.choice(self.current_size, size, replace=False)\n",
        "        # return the mini-batch of transitions\n",
        "        return {\n",
        "            \"states\": self.states[indices],\n",
        "            \"actions\": self.actions[indices],\n",
        "            \"rewards\": self.rewards[indices],\n",
        "            \"next_states\": self.next_states[indices],\n",
        "            \"done_flags\": self.done_flags[indices],\n",
        "        }"
      ]
    },
    {
      "cell_type": "markdown",
      "metadata": {
        "id": "IIJckB97V35S"
      },
      "source": [
        "Agent"
      ]
    },
    {
      "cell_type": "code",
      "execution_count": null,
      "metadata": {
        "id": "EzgQ8IdXV5VN"
      },
      "outputs": [],
      "source": [
        "\n",
        "from copy import deepcopy\n",
        "\n",
        "class Agent():\n",
        "    def __init__(\n",
        "        self, obs_dim,act_dim, learning_rate, gamma, tau, cycle_num=-1):\n",
        "        self.obs_dim = obs_dim\n",
        "        self.act_dim = act_dim\n",
        "        self.gamma = gamma\n",
        "        self.tau = tau\n",
        "        self.cycle_num = cycle_num\n",
        "\n",
        "\n",
        "\n",
        "        self.device = torch.device('cpu')\n",
        "        self.buffer = ReplayBuffer(self.obs_dim, self.act_dim)\n",
        "\n",
        "\n",
        "        # initialize the actor and critics\n",
        "        self.actor = Network([self.obs_dim, 400, 300, self.act_dim],nn.Tanh,learning_rate,self.device)\n",
        "\n",
        "        self.critic1 = Network([self.obs_dim + self.act_dim, 400, 300, 1],nn.Identity,learning_rate,self.device)\n",
        "\n",
        "        self.critic2 = Network([self.obs_dim + self.act_dim, 400, 300, 1],nn.Identity,learning_rate,self.device)\n",
        "\n",
        "        # create target networks\n",
        "        self.target_actor = deepcopy(self.actor)\n",
        "\n",
        "        self.target_critic1 = deepcopy(self.critic1)\n",
        "\n",
        "        self.target_critic2 = deepcopy(self.critic2)\n",
        "\n",
        "    def sample_action(self, state, sigma):\n",
        "\n",
        "        deterministic_action = self.get_deterministic_action(state)\n",
        "        noise = np.random.normal(0, sigma, deterministic_action.shape)\n",
        "        return np.clip(deterministic_action + noise, -1, +1)\n",
        "\n",
        "    def get_deterministic_action(self, state):\n",
        "        actions: torch.Tensor = self.actor.forward(torch.tensor(state, device=self.device))\n",
        "        return actions.cpu().detach().numpy()\n",
        "\n",
        "    def update(self, mini_batch_size, training_sigma, training_clip,update_policy):\n",
        "        # randomly sample a mini-batch from the replay buffer\n",
        "        mini_batch = self.buffer.get_mini_batch(mini_batch_size)\n",
        "        # create tensors to start generating computational graph\n",
        "        states = torch.tensor(mini_batch[\"states\"], requires_grad=True, device=self.device)\n",
        "        actions = torch.tensor(mini_batch[\"actions\"], requires_grad=True, device=self.device)\n",
        "        rewards = torch.tensor(mini_batch[\"rewards\"], requires_grad=True, device=self.device)\n",
        "        next_states = torch.tensor(\n",
        "            mini_batch[\"next_states\"], requires_grad=True, device=self.device\n",
        "        )\n",
        "        dones = torch.tensor(mini_batch[\"done_flags\"], requires_grad=True, device=self.device)\n",
        "        # compute the targets\n",
        "        targets = self.compute_targets(\n",
        "            rewards, next_states, dones, training_sigma, training_clip\n",
        "        )\n",
        "        # do a single step on each critic network\n",
        "        Q1Loss = self.compute_qloss(self.critic1, states, actions, targets)\n",
        "        self.critic1.gradient_descent_step(Q1Loss, True)\n",
        "        Q2Loss = self.compute_qloss(self.critic2, states, actions, targets)\n",
        "        self.critic2.gradient_descent_step(Q2Loss)\n",
        "        if update_policy:\n",
        "            # do a single step on the actor network\n",
        "            policy_loss = self.compute_policy_loss(states)\n",
        "            self.actor.gradient_descent_step(policy_loss)\n",
        "            # update target networks\n",
        "            self.update_target_network(self.target_actor, self.actor)\n",
        "            self.update_target_network(self.target_critic1, self.critic1)\n",
        "            self.update_target_network(self.target_critic2, self.critic2)\n",
        "\n",
        "    def compute_targets(self, rewards, next_states, dones,training_sigma, training_clip):\n",
        "        target_actions = self.target_actor.forward(next_states.float())\n",
        "        # create additive noise for target actions\n",
        "        noise = np.random.normal(0, training_sigma, target_actions.shape)\n",
        "        clipped_noise = torch.tensor(\n",
        "            np.clip(noise, -training_clip, +training_clip), device=self.device\n",
        "        )\n",
        "        target_actions = torch.clip(target_actions + clipped_noise, -1, +1)\n",
        "        # compute targets\n",
        "        target_Q1_values = torch.squeeze(\n",
        "            self.target_critic1.forward(torch.hstack([next_states, target_actions]).float())\n",
        "        )\n",
        "        target_Q2_values = torch.squeeze(\n",
        "            self.target_critic2.forward(torch.hstack([next_states, target_actions]).float())\n",
        "        )\n",
        "        target_Q_values = torch.minimum(target_Q1_values, target_Q2_values)\n",
        "        return rewards + self.gamma*(1 - dones)*target_Q_values\n",
        "\n",
        "    def compute_qloss(\n",
        "        self, network, states, actions, targets):\n",
        "        # compute the MSE of the Q function with respect to the targets\n",
        "        Q_values = torch.squeeze(network.forward(torch.hstack([states, actions]).float()))\n",
        "        return torch.square(Q_values - targets).mean()\n",
        "\n",
        "    def compute_policy_loss(self, states):\n",
        "        actions = self.actor.forward(states.float())\n",
        "        Q_values = torch.squeeze(self.critic1.forward(torch.hstack([states, actions]).float()))\n",
        "        return -Q_values.mean()\n",
        "\n",
        "    def update_target_network(self, target_network, network):\n",
        "        with torch.no_grad():\n",
        "            for target_parameter, parameter in zip(\n",
        "                target_network.parameters(), network.parameters()\n",
        "            ):\n",
        "                target_parameter.mul_(1 - self.tau)\n",
        "                target_parameter.add_(self.tau*parameter)\n"
      ]
    },
    {
      "cell_type": "markdown",
      "metadata": {
        "id": "8lVSaRVXV_4q"
      },
      "source": [
        "Hyperparams"
      ]
    },
    {
      "cell_type": "code",
      "execution_count": null,
      "metadata": {
        "id": "6tVTjoyMWBBX"
      },
      "outputs": [],
      "source": [
        "# hyperparamaters - original ones\n",
        "gamma = 0.99         # discount factor for rewards\n",
        "learningRate = 3e-4  # learning rate for actor and critic networks\n",
        "tau = 0.005          # tracking parameter used to update target networks slowly\n",
        "actionSigma = 0.1    # contributes noise to deterministic policy output\n",
        "trainingSigma = 0.2  # contributes noise to target actions\n",
        "trainingClip = 0.5   # clips target actions to keep them close to true actions\n",
        "miniBatchSize = 100  # how large a mini-batch should be when updating\n",
        "policyDelay = 2      # how many steps to wait before updating the policy\n",
        "\n",
        "\n",
        "# hyperparamters we found through search\n",
        "gamma= 0.9631181910550325\n",
        "learning_rate= 0.00048294207603125734\n",
        "tau = 0.0026831631289759876\n",
        "action_sigma=0.10499796824145134\n",
        "training_sigma=0.2723359263110223\n",
        "training_clip = 0.49988955249436184\n",
        "mini_batch_size=107\n",
        "policy_delay=3"
      ]
    },
    {
      "cell_type": "code",
      "execution_count": null,
      "metadata": {
        "id": "70PRPXe3WCWT"
      },
      "outputs": [],
      "source": [
        "\n",
        "# Setup logging / Choose enviroment\n",
        "%load_ext wandb\n",
        "ENV_NAME = \"BipedalWalker-v3\" #change to \"BipedalWalkerHardcore-v3\" for the hardcore enviroment\n",
        "wandb.init(project=ENV_NAME,save_code=True)\n",
        "\n",
        "env = gym.make(ENV_NAME)\n",
        "# env = gym.make(\"BipedalWalkerHardcore-v3\") # only attempt this when your agent has solved BipedalWalker-v3\n",
        "env = gym.wrappers.Monitor(env, \"./video\", video_callable=lambda ep_id: ep_id%video_every == 0, force=True)\n",
        "\n",
        "obs_dim = env.observation_space.shape[0]\n",
        "act_dim = env.action_space.shape[0]\n",
        "\n",
        "\n",
        "plot_interval = 10 # update the plot every N episodes\n",
        "video_every = 100 # videos can take a very long time to render so only do it every N episodes\n",
        "\n",
        "\n",
        "device = torch.device('cuda') if torch.cuda.is_available() else torch.device('cpu')\n",
        "\n",
        "# Set seeds nice and early - for consistent results\n",
        "seed = 42\n",
        "torch.manual_seed(seed)\n",
        "random.seed(seed)\n",
        "np.random.seed(seed)\n",
        "torch.use_deterministic_algorithms(True)\n",
        "torch.cuda.manual_seed_all(seed)"
      ]
    },
    {
      "cell_type": "code",
      "execution_count": null,
      "metadata": {
        "id": "kGJ-GVYFWFS0"
      },
      "outputs": [],
      "source": [
        "\n",
        "# logging variables\n",
        "ep_reward = 0\n",
        "reward_list = []\n",
        "plot_data = []\n",
        "\n",
        "# we dont submit the this - can only submit one agent log\n",
        "# log_f = open(\"agent-log.txt\",\"w+\")\n",
        "\n",
        "# initialise agent\n",
        "agent = Agent(obs_dim,act_dim,learningRate, gamma, tau)\n",
        "max_episodes = 1000\n",
        "max_timesteps = 2000\n",
        "\n",
        "\n",
        "\n",
        "\n",
        "# training procedure:\n",
        "for episode in range(1, max_episodes+1):\n",
        "    state = env.reset()\n",
        "    for t in range(max_timesteps):\n",
        "\n",
        "        action = agent.sample_action(state, action_sigma)\n",
        "\n",
        "\n",
        "        next_state, reward, done, _ = env.step(action)\n",
        "\n",
        "        agent.buffer.store(state, action, reward, next_state, done)\n",
        "\n",
        "        state = next_state\n",
        "        ep_reward += reward\n",
        "\n",
        "\n",
        "        should_update_policy = t % policy_delay == 0\n",
        "\n",
        "        agent.update(mini_batch_size, training_sigma, training_clip, should_update_policy)\n",
        "\n",
        "\n",
        "\n",
        "        # stop iterating when the episode finished\n",
        "        if done or t==(max_timesteps-1):\n",
        "            break\n",
        "\n",
        "    # append the episode reward to the reward list\n",
        "    reward_list.append(ep_reward)\n",
        "\n",
        "    # do NOT change this logging code - it is used for automated marking! - we dont use this file for submission!\n",
        "    # log_f.write('episode: {}, reward: {}\\n'.format(episode, ep_reward))\n",
        "    # log_f.flush()\n",
        "\n",
        "\n",
        "    # log data to wandb\n",
        "    log_to_wandb(episode,np.array(reward_list).mean(),np.array(reward_list).std(),ep_reward)\n",
        "\n",
        "    ep_reward = 0\n",
        "\n",
        "    # print reward data every so often - add a graph like this in your report\n",
        "    if episode % plot_interval == 0:\n",
        "        plot_data.append([episode, np.array(reward_list).mean(), np.array(reward_list).std()])\n",
        "        reward_list = []\n",
        "        # plt.rcParams['figure.dpi'] = 100\n",
        "        plt.plot([x[0] for x in plot_data], [x[1] for x in plot_data], '-', color='tab:grey')\n",
        "        plt.fill_between([x[0] for x in plot_data], [x[1]-x[2] for x in plot_data], [x[1]+x[2] for x in plot_data], alpha=0.2, color='tab:grey')\n",
        "        plt.xlabel('Episode number')\n",
        "        plt.ylabel('Episode reward')\n",
        "        plt.show()\n",
        "        disp.clear_output(wait=True)\n",
        "\n",
        "\n",
        "env.close()"
      ]
    },
    {
      "cell_type": "markdown",
      "metadata": {
        "id": "JVJG8cqPWRBr"
      },
      "source": [
        "Hyperparam search\n",
        "\n",
        "This also wasn't ran in a notebook"
      ]
    },
    {
      "cell_type": "code",
      "execution_count": null,
      "metadata": {
        "id": "LKU13Q82Y44t"
      },
      "outputs": [],
      "source": [
        "def objective(trial, env):\n",
        "    score = 0\n",
        "\n",
        "    # HYPERPARAMETERS\n",
        "    gamma = 0.99         # discount factor for rewards\n",
        "    learningRate = 3e-4  # learning rate for actor and critic networks\n",
        "    tau = 0.005          # tracking parameter used to update target networks slowly\n",
        "    actionSigma = 0.1    # contributes noise to deterministic policy output\n",
        "    trainingSigma = 0.2  # contributes noise to target actions\n",
        "    trainingClip = 0.5   # clips target actions to keep them close to true actions\n",
        "    miniBatchSize = 100  # how large a mini-batch should be when updating\n",
        "    policyDelay = 2      # how many steps to wait before updating the policy\n",
        "\n",
        "\n",
        "    gamma = trial.suggest_float('gamma', 0.9, 0.999, log=True)  # discount factor for rewards\n",
        "    learningRate = trial.suggest_float('learningRate', 1e-5, 1e-3, log=True)  # learning rate for actor and critic networks\n",
        "    tau = trial.suggest_float('tau', 0.001, 0.01, log=True)  # tracking parameter used to update target networks slowly\n",
        "    actionSigma = trial.suggest_float('actionSigma', 0.05, 0.2)  # contributes noise to deterministic policy output\n",
        "    trainingSigma = trial.suggest_float('trainingSigma', 0.1, 0.3)  # contributes noise to target actions\n",
        "    trainingClip = trial.suggest_float('trainingClip', 0.1, 1.0)  # clips target actions to keep them close to true actions\n",
        "    miniBatchSize = trial.suggest_int('miniBatchSize', 32, 120)  # how large a mini-batch should be when updating\n",
        "    policyDelay = trial.suggest_int('policyDelay', 1, 5)  # how many steps to wait before updating the policy\n",
        "\n",
        "\n",
        "    \"\"\"**Prepare the environment and wrap it to capture videos**\"\"\"\n",
        "\n",
        "    # Commented out IPython magic to ensure Python compatibility.\n",
        "    # %%capture\n",
        "\n",
        "    # # env = gym.make(\"BipedalWalkerHardcore-v3\") # only attempt this when your agent has solved BipedalWalker-v3\n",
        "    # env = gym.wrappers.Monitor(env, \"./video\", video_callable=lambda ep_id: ep_id%video_every == 0, force=True)\n",
        "    #\n",
        "    obs_dim = env.observation_space.shape[0]\n",
        "    act_dim = env.action_space.shape[0]\n",
        "\n",
        "    print('The environment has {} observations and the agent can take {} actions'.format(obs_dim, act_dim))\n",
        "    print('The device is: {}'.format(device))\n",
        "\n",
        "    if device.type != 'cpu': print('It\\'s recommended to train on the cpu for this')\n",
        "\n",
        "    # in the submission please use seed 42 for verification\n",
        "    seed = 42\n",
        "    torch.manual_seed(seed)\n",
        "\n",
        "    random.seed(seed)\n",
        "    np.random.seed(seed)\n",
        "    env.seed(seed)\n",
        "    env.action_space.seed(seed)\n",
        "\n",
        "    # logging variables\n",
        "    ep_reward = 0\n",
        "    reward_list = []\n",
        "    plot_data = []\n",
        "\n",
        "    # initialise agent\n",
        "    agent = Agent(\"plz\",obs_dim,act_dim,learningRate, gamma, tau)\n",
        "    max_episodes = 300\n",
        "    max_timesteps = 2000\n",
        "\n",
        "    # training procedure:\n",
        "    for episode in range(1, max_episodes+1):\n",
        "        print(\"on episode: \", episode)\n",
        "        state = env.reset()\n",
        "        for t in range(max_timesteps):\n",
        "\n",
        "            # select the agent action\n",
        "\n",
        "            action = agent.sample_action(state, actionSigma)\n",
        "\n",
        "            next_state, reward, done, info = env.step(action)\n",
        "\n",
        "            agent.buffer.store(state, action, reward, next_state, done)\n",
        "\n",
        "            state = next_state\n",
        "            ep_reward += reward\n",
        "\n",
        "            shouldUpdatePolicy = t % policyDelay == 0\n",
        "\n",
        "            agent.update(miniBatchSize, trainingSigma, trainingClip, shouldUpdatePolicy)\n",
        "\n",
        "            # stop iterating when the episode finished\n",
        "            if done or t==(max_timesteps-1):\n",
        "                break\n",
        "\n",
        "        # append the episode reward to the reward list\n",
        "        score += ep_reward\n",
        "        reward_list.append(ep_reward)\n",
        "        ep_reward = 0\n",
        "\n",
        "        # print reward data every so often - add a graph like this in your report\n",
        "        if episode % plot_interval == 0:\n",
        "            plot_data.append([episode, np.array(reward_list).mean(), np.array(reward_list).std()])\n",
        "            # plt.rcParams['figure.dpi'] = 100\n",
        "            log_to_wandb(plot_data)\n",
        "    return score\n",
        "\n",
        "\n",
        "study = optuna.create_study(direction='maximize')\n",
        "study.optimize(lambda trial: objective(trial, env), n_trials=200)\n",
        "wandb.finish()\n",
        "\n",
        "\n"
      ]
    }
  ],
  "metadata": {
    "colab": {
      "machine_shape": "hm",
      "provenance": []
    },
    "kernelspec": {
      "display_name": "Python 3",
      "name": "python3"
    }
  },
  "nbformat": 4,
  "nbformat_minor": 0
}
